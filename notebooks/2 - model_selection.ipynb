{
 "cells": [
  {
   "cell_type": "markdown",
   "metadata": {},
   "source": [
    "## Model Selection\n",
    "\n",
    "This notebook should include preliminary and baseline modeling.\n",
    "- Try as many different models as possible.\n",
    "- Don't worry about hyperparameter tuning or cross validation here.\n",
    "- Ideas include:\n",
    "    - linear regression\n",
    "    - support vector machines\n",
    "    - random forest\n",
    "    - xgboost"
   ]
  },
  {
   "cell_type": "code",
   "execution_count": 44,
   "metadata": {},
   "outputs": [],
   "source": [
    "# import models and fit \n",
    "import numpy as np\n",
    "import pandas as pd\n",
    "import matplotlib.pyplot as plt\n",
    "import seaborn as sns\n",
    "from sklearn.model_selection import train_test_split\n",
    "from sklearn.linear_model import LinearRegression\n",
    "from sklearn.svm import SVR\n",
    "from sklearn.ensemble import RandomForestRegressor\n",
    "import xgboost as xgb\n",
    "from sklearn.metrics import mean_squared_error, mean_absolute_error, r2_score"
   ]
  },
  {
   "cell_type": "code",
   "execution_count": 45,
   "metadata": {},
   "outputs": [],
   "source": [
    "# Load preprocessed data \n",
    "\n",
    "X_train = pd.read_pickle('../data/processed/X_train.pkl')\n",
    "X_test = pd.read_pickle('../data/processed/X_test.pkl')\n",
    "\n",
    "y_train = pd.read_pickle('../data/processed/y_train.pkl')\n",
    "y_test = pd.read_pickle('../data/processed/y_test.pkl')\n"
   ]
  },
  {
   "cell_type": "code",
   "execution_count": 46,
   "metadata": {},
   "outputs": [],
   "source": [
    "# Initialize models\n",
    "models = {\n",
    "    \"Linear Regression\": LinearRegression(),\n",
    "    \"Support Vector Machine\": SVR(),\n",
    "    \"Random Forest\": RandomForestRegressor(n_estimators=100, random_state=42),\n",
    "    \"XGBoost\": xgb.XGBRegressor(objective='reg:squarederror', n_estimators=100, random_state=42)\n",
    "}"
   ]
  },
  {
   "cell_type": "code",
   "execution_count": 47,
   "metadata": {},
   "outputs": [
    {
     "name": "stdout",
     "output_type": "stream",
     "text": [
      "Index([], dtype='object')\n"
     ]
    }
   ],
   "source": [
    "# Identify categorical columns\n",
    "categorical_cols = X_train.select_dtypes(include=['object']).columns\n",
    "print(categorical_cols)\n"
   ]
  },
  {
   "cell_type": "code",
   "execution_count": 48,
   "metadata": {},
   "outputs": [
    {
     "name": "stdout",
     "output_type": "stream",
     "text": [
      "Non-numeric columns: Index([], dtype='object')\n"
     ]
    }
   ],
   "source": [
    "# Check data types\n",
    "non_numeric_cols = X_train.select_dtypes(include=['object']).columns\n",
    "print(\"Non-numeric columns:\", non_numeric_cols)\n"
   ]
  },
  {
   "cell_type": "code",
   "execution_count": 49,
   "metadata": {},
   "outputs": [
    {
     "name": "stdout",
     "output_type": "stream",
     "text": [
      "0\n"
     ]
    }
   ],
   "source": [
    "# check for missing values\n",
    "print(X_train.isnull().sum().sum())  "
   ]
  },
  {
   "cell_type": "code",
   "execution_count": 50,
   "metadata": {},
   "outputs": [
    {
     "name": "stdout",
     "output_type": "stream",
     "text": [
      "year_built            float64\n",
      "lot_sqft              float64\n",
      "sqft                  float64\n",
      "baths                 float64\n",
      "garage                float64\n",
      "                       ...   \n",
      "type_single_family       bool\n",
      "type_townhomes           bool\n",
      "type_nan                 bool\n",
      "city_lat              float64\n",
      "city_lon              float64\n",
      "Length: 145, dtype: object\n"
     ]
    }
   ],
   "source": [
    "# Ensure all columns are numeric\n",
    "print(X_train.dtypes)  "
   ]
  },
  {
   "cell_type": "code",
   "execution_count": 51,
   "metadata": {},
   "outputs": [],
   "source": [
    "# checking for strings\n",
    "for col in X_train.columns:\n",
    "    unique_types = X_train[col].apply(type).unique()\n",
    "    if any(t == str for t in unique_types):\n",
    "        print(f\"Column '{col}' contains string values!\")\n"
   ]
  },
  {
   "cell_type": "code",
   "execution_count": 52,
   "metadata": {},
   "outputs": [
    {
     "name": "stdout",
     "output_type": "stream",
     "text": [
      "year_built            float64\n",
      "lot_sqft              float64\n",
      "sqft                  float64\n",
      "baths                 float64\n",
      "garage                float64\n",
      "                       ...   \n",
      "type_single_family       bool\n",
      "type_townhomes           bool\n",
      "type_nan                 bool\n",
      "city_lat              float64\n",
      "city_lon              float64\n",
      "Length: 145, dtype: object\n",
      "int32\n",
      "      year_built  lot_sqft      sqft     baths    garage   stories      beds  \\\n",
      "998     0.148618 -0.037571  0.381957 -0.087199 -0.858990 -0.488133  2.035235   \n",
      "254     0.153065 -0.036389 -0.051380 -0.087199  0.884145 -0.488133  1.349449   \n",
      "1074    0.364308 -0.036252  0.151520 -0.087199  1.755713 -0.488133 -0.022122   \n",
      "643     0.248680 -0.036104 -0.135439 -0.087199 -0.858990 -0.488133 -0.022122   \n",
      "1452    0.246457 -0.035208  0.303695 -0.087199 -0.858990 -0.488133 -0.022122   \n",
      "\n",
      "      postal_code  property_lon  property_lat  ...  type_apartment  \\\n",
      "998     -1.153984      0.960277      0.894051  ...           False   \n",
      "254     -1.363022      1.026949      0.672922  ...           False   \n",
      "1074     0.932452     -0.493819     -0.970604  ...           False   \n",
      "643     -0.838559      0.798572     -0.035457  ...           False   \n",
      "1452    -0.704674      0.481790     -0.223042  ...           False   \n",
      "\n",
      "      type_condo  type_land  type_mobile  type_multi_family  \\\n",
      "998        False      False        False               True   \n",
      "254        False      False        False               True   \n",
      "1074       False      False        False              False   \n",
      "643        False      False        False              False   \n",
      "1452       False      False        False              False   \n",
      "\n",
      "      type_single_family  type_townhomes  type_nan  city_lat  city_lon  \n",
      "998                False           False     False  0.895565  1.017292  \n",
      "254                False           False     False  0.667100  1.085989  \n",
      "1074                True           False     False -0.978490 -0.508991  \n",
      "643                 True           False     False -0.051383  0.842790  \n",
      "1452                True           False     False -0.211818  0.514818  \n",
      "\n",
      "[5 rows x 145 columns]\n",
      "998     221000\n",
      "254     230000\n",
      "1074    320000\n",
      "643     433000\n",
      "1452    115500\n",
      "Name: sold_price, dtype: int32\n",
      "0 0\n"
     ]
    }
   ],
   "source": [
    "print(X_train.dtypes)\n",
    "print(y_train.dtypes)\n",
    "print(X_train.head())\n",
    "print(y_train.head())\n",
    "print(X_train.isnull().sum().sum(), y_train.isnull().sum().sum())"
   ]
  },
  {
   "cell_type": "code",
   "execution_count": 53,
   "metadata": {},
   "outputs": [
    {
     "name": "stdout",
     "output_type": "stream",
     "text": [
      "Linear Regression:\n",
      " RMSE: 323955.15, MAE: 223825.91, R^2: -0.0388\n",
      "\n",
      "Support Vector Machine:\n",
      " RMSE: 327303.17, MAE: 193020.69, R^2: -0.0604\n",
      "\n",
      "Random Forest:\n",
      " RMSE: 245888.27, MAE: 120189.81, R^2: 0.4015\n",
      "\n",
      "XGBoost:\n",
      " RMSE: 381109.31, MAE: 128650.91, R^2: -0.4377\n",
      "\n"
     ]
    }
   ],
   "source": [
    "# Train and evaluate models\n",
    "results = []\n",
    "for name, model in models.items():\n",
    "    model.fit(X_train, y_train)\n",
    "    y_pred = model.predict(X_test)\n",
    "    \n",
    "    # Calculate evaluation metrics\n",
    "    rmse = np.sqrt(mean_squared_error(y_test, y_pred))\n",
    "    mae = mean_absolute_error(y_test, y_pred)\n",
    "    r2 = r2_score(y_test, y_pred)\n",
    "    \n",
    "    results.append([name, rmse, mae, r2])\n",
    "    print(f\"{name}:\\n RMSE: {rmse:.2f}, MAE: {mae:.2f}, R^2: {r2:.4f}\\n\")"
   ]
  },
  {
   "cell_type": "code",
   "execution_count": 54,
   "metadata": {},
   "outputs": [],
   "source": [
    "# Convert results to DataFrame for comparison\n",
    "results_df = pd.DataFrame(results, columns=[\"Model\", \"RMSE\", \"MAE\", \"R^2\"])"
   ]
  },
  {
   "cell_type": "code",
   "execution_count": 55,
   "metadata": {},
   "outputs": [
    {
     "data": {
      "image/png": "[encoded data removed]",
      "text/plain": [
       "<Figure size 1000x600 with 1 Axes>"
      ]
     },
     "metadata": {},
     "output_type": "display_data"
    }
   ],
   "source": [
    "# Plot results\n",
    "plt.figure(figsize=(10, 6))\n",
    "sns.barplot(data=results_df.melt(id_vars=[\"Model\"], var_name=\"Metric\", value_name=\"Score\"),\n",
    "            x=\"Model\", y=\"Score\", hue=\"Metric\")\n",
    "plt.xticks(rotation=45)\n",
    "plt.title(\"Model Performance Comparison\")\n",
    "plt.show()"
   ]
  },
  {
   "cell_type": "code",
   "execution_count": 56,
   "metadata": {},
   "outputs": [],
   "source": [
    "# Save results\n",
    "df_results = results_df.sort_values(by='RMSE')\n",
    "df_results.to_csv(\"model_comparison_results.csv\", index=False)"
   ]
  },
  {
   "cell_type": "markdown",
   "metadata": {},
   "source": [
    "Consider what metrics you want to use to evaluate success.\n",
    "- If you think about mean squared error, can we actually relate to the amount of error?\n",
    "- Try root mean squared error so that error is closer to the original units (dollars)\n",
    "- What does RMSE do to outliers?\n",
    "- Is mean absolute error a good metric for this problem?\n",
    "- What about R^2? Adjusted R^2?\n",
    "- Briefly describe your reasons for picking the metrics you use"
   ]
  },
  {
   "cell_type": "markdown",
   "metadata": {},
   "source": [
    "- **Best Model: Random Forest** \n",
    "  - Lowest RMSE (223,739.53) and MAE (119,453.70)  \n",
    "  - Highest R² (0.5045), explaining ~50% of variance  \n",
    "\n",
    "- **Metric Selection:**  \n",
    "  - **RMSE**: Measures error in dollars, penalizes large deviations  \n",
    "  - **MAE**: Gives average error, less sensitive to outliers  \n",
    "  - **R²**: Evaluates explanatory power (negative values indicate poor fit)  \n",
    "\n",
    "- **Key Insights:**  \n",
    "  - XGBoost performed the worst (RMSE: 932,997.51, R²: -7.6163)  \n",
    "  - Random Forest is the most reliable model based on all metrics  \n",
    "  - Further tuning could improve performance"
   ]
  },
  {
   "cell_type": "markdown",
   "metadata": {},
   "source": [
    "## Feature Selection - STRETCH\n",
    "\n",
    "> **This step doesn't need to be part of your Minimum Viable Product (MVP), but its recommended you complete it if you have time!**\n",
    "\n",
    "Even with all the preprocessing we did in Notebook 1, you probably still have a lot of features. Are they all important for prediction?\n",
    "\n",
    "Investigate some feature selection algorithms (Lasso, RFE, Forward/Backward Selection)\n",
    "- Perform feature selection to get a reduced subset of your original features\n",
    "- Refit your models with this reduced dimensionality - how does performance change on your chosen metrics?\n",
    "- Based on this, should you include feature selection in your final pipeline? Explain\n",
    "\n",
    "Remember, feature selection often doesn't directly improve performance, but if performance remains the same, a simpler model is often preferrable. \n",
    "\n"
   ]
  },
  {
   "cell_type": "code",
   "execution_count": 57,
   "metadata": {},
   "outputs": [],
   "source": [
    "# perform feature selection \n",
    "# refit models\n",
    "# gather evaluation metrics and compare to the previous step (full feature set)"
   ]
  },
  {
   "cell_type": "markdown",
   "metadata": {},
   "source": []
  }
 ],
 "metadata": {
  "kernelspec": {
   "display_name": "test_env",
   "language": "python",
   "name": "python3"
  },
  "language_info": {
   "codemirror_mode": {
    "name": "ipython",
    "version": 3
   },
   "file_extension": ".py",
   "mimetype": "text/x-python",
   "name": "python",
   "nbconvert_exporter": "python",
   "pygments_lexer": "ipython3",
   "version": "3.9.20"
  }
 },
 "nbformat": 4,
 "nbformat_minor": 2
}
