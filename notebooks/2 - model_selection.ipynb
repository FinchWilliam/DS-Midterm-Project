{
 "cells": [
  {
   "cell_type": "markdown",
   "metadata": {},
   "source": [
    "## Model Selection\n",
    "\n",
    "This notebook should include preliminary and baseline modeling.\n",
    "- Try as many different models as possible.\n",
    "- Don't worry about hyperparameter tuning or cross validation here.\n",
    "- Ideas include:\n",
    "    - linear regression\n",
    "    - support vector machines\n",
    "    - random forest\n",
    "    - xgboost"
   ]
  },
  {
   "cell_type": "code",
   "execution_count": 12,
   "metadata": {},
   "outputs": [],
   "source": [
    "# import models and fit \n",
    "import numpy as np\n",
    "import pandas as pd\n",
    "import matplotlib.pyplot as plt\n",
    "import seaborn as sns\n",
    "from sklearn.model_selection import train_test_split\n",
    "from sklearn.linear_model import LinearRegression\n",
    "from sklearn.svm import SVR\n",
    "from sklearn.ensemble import RandomForestRegressor\n",
    "import xgboost as xgb\n",
    "from sklearn.metrics import mean_squared_error, mean_absolute_error, r2_score"
   ]
  },
  {
   "cell_type": "code",
   "execution_count": 13,
   "metadata": {},
   "outputs": [
    {
     "name": "stdout",
     "output_type": "stream",
     "text": [
      "Index(['Unnamed: 0', 'property_id', 'year_built', 'sold_price', 'lot_sqft',\n",
      "       'sqft', 'baths', 'garage', 'stories', 'beds',\n",
      "       ...\n",
      "       'tags_wooded_land', 'tags_nan', 'city_lat', 'city_lon', 'type_condo',\n",
      "       'type_land', 'type_mobile', 'type_multi_family', 'type_single_family',\n",
      "       'type_townhomes'],\n",
      "      dtype='object', length=146)\n"
     ]
    }
   ],
   "source": [
    "print(df.columns)"
   ]
  },
  {
   "cell_type": "code",
   "execution_count": 14,
   "metadata": {},
   "outputs": [],
   "source": [
    "# Load preprocessed data \n",
    "df = pd.read_csv('/Users/rimbarbar/LHL_DS-Midterm-Project/DS-Midterm-Project/data/processed/data_complete.csv')  \n",
    "\n",
    "# Define features and target\n",
    "X = df.drop(columns=['sold_price'])  \n",
    "y = df['sold_price']\n",
    "\n",
    "# Split data into training and testing sets\n",
    "X_train, X_test, y_train, y_test = train_test_split(X, y, test_size=0.2, random_state=42)"
   ]
  },
  {
   "cell_type": "code",
   "execution_count": 15,
   "metadata": {},
   "outputs": [],
   "source": [
    "# Initialize models\n",
    "models = {\n",
    "    \"Linear Regression\": LinearRegression(),\n",
    "    \"Support Vector Machine\": SVR(),\n",
    "    \"Random Forest\": RandomForestRegressor(n_estimators=100, random_state=42),\n",
    "    \"XGBoost\": xgb.XGBRegressor(objective='reg:squarederror', n_estimators=100, random_state=42)\n",
    "}"
   ]
  },
  {
   "cell_type": "code",
   "execution_count": 17,
   "metadata": {},
   "outputs": [],
   "source": [
    "# Identify categorical columns\n",
    "categorical_cols = df.select_dtypes(include=['object']).columns\n",
    "\n",
    "# Convert categorical columns using one-hot encoding\n",
    "df = pd.get_dummies(df, columns=categorical_cols, drop_first=True)"
   ]
  },
  {
   "cell_type": "code",
   "execution_count": 18,
   "metadata": {},
   "outputs": [
    {
     "name": "stdout",
     "output_type": "stream",
     "text": [
      "Non-numeric columns: Index([], dtype='object')\n"
     ]
    }
   ],
   "source": [
    "# Check data types\n",
    "non_numeric_cols = df.select_dtypes(include=['object']).columns\n",
    "print(\"Non-numeric columns:\", non_numeric_cols)\n"
   ]
  },
  {
   "cell_type": "code",
   "execution_count": 19,
   "metadata": {},
   "outputs": [
    {
     "name": "stdout",
     "output_type": "stream",
     "text": [
      "0\n"
     ]
    }
   ],
   "source": [
    "# check for missing values\n",
    "print(df.isnull().sum().sum())  "
   ]
  },
  {
   "cell_type": "code",
   "execution_count": 20,
   "metadata": {},
   "outputs": [
    {
     "name": "stdout",
     "output_type": "stream",
     "text": [
      "Unnamed: 0            int64\n",
      "property_id           int64\n",
      "year_built            int64\n",
      "sold_price            int64\n",
      "lot_sqft              int64\n",
      "                      ...  \n",
      "type_land              bool\n",
      "type_mobile            bool\n",
      "type_multi_family      bool\n",
      "type_single_family     bool\n",
      "type_townhomes         bool\n",
      "Length: 146, dtype: object\n"
     ]
    }
   ],
   "source": [
    "# Ensure all columns are numeric\n",
    "print(df.dtypes)  "
   ]
  },
  {
   "cell_type": "code",
   "execution_count": 21,
   "metadata": {},
   "outputs": [],
   "source": [
    "# checking for strings\n",
    "for col in df.columns:\n",
    "    unique_types = df[col].apply(type).unique()\n",
    "    if any(t == str for t in unique_types):\n",
    "        print(f\"Column '{col}' contains string values!\")\n"
   ]
  },
  {
   "cell_type": "code",
   "execution_count": 22,
   "metadata": {},
   "outputs": [
    {
     "name": "stdout",
     "output_type": "stream",
     "text": [
      "Unnamed: 0            int64\n",
      "property_id           int64\n",
      "year_built            int64\n",
      "lot_sqft              int64\n",
      "sqft                  int64\n",
      "                     ...   \n",
      "tags_waterfront       int64\n",
      "tags_wooded_land      int64\n",
      "tags_nan              int64\n",
      "city_lat            float64\n",
      "city_lon            float64\n",
      "Length: 140, dtype: object\n",
      "int64\n",
      "      Unnamed: 0  property_id  year_built  lot_sqft  sqft  baths  garage  \\\n",
      "998          998   3547044935        1920      3049  2326      2       0   \n",
      "254          254   4783251140        1922      7841  1728      2       2   \n",
      "1074        1074   8726859512        2017      8398  2008      2       3   \n",
      "643          643   6798227646        1965      9000  1612      2       0   \n",
      "1452        1452   3250787813        1964     12632  2218      2       0   \n",
      "\n",
      "      stories  beds           type  ...  tags_vaulted_ceiling  tags_view  \\\n",
      "998         1     6   multi_family  ...                     0          0   \n",
      "254         1     5   multi_family  ...                     0          0   \n",
      "1074        1     3  single_family  ...                     0          0   \n",
      "643         1     3  single_family  ...                     0          0   \n",
      "1452        1     3  single_family  ...                     0          0   \n",
      "\n",
      "      tags_views  tags_washer_dryer  tags_water_view  tags_waterfront  \\\n",
      "998            0                  0                0                0   \n",
      "254            0                  0                0                0   \n",
      "1074           0                  0                0                0   \n",
      "643            0                  0                0                0   \n",
      "1452           0                  0                0                0   \n",
      "\n",
      "      tags_wooded_land  tags_nan   city_lat   city_lon  \n",
      "998                  0         0  42.649977 -73.751982  \n",
      "254                  0         0  41.764216 -72.672991  \n",
      "1074                 0         0  35.384227 -97.724481  \n",
      "643                  0         0  38.978640 -76.492786  \n",
      "1452                 0         0  38.356629 -81.644059  \n",
      "\n",
      "[5 rows x 140 columns]\n",
      "998     221000\n",
      "254     230000\n",
      "1074    320000\n",
      "643     433000\n",
      "1452    115500\n",
      "Name: sold_price, dtype: int64\n",
      "0 0\n"
     ]
    }
   ],
   "source": [
    "print(X_train.dtypes)\n",
    "print(y_train.dtypes)\n",
    "print(X_train.head())\n",
    "print(y_train.head())\n",
    "print(X_train.isnull().sum().sum(), y_train.isnull().sum().sum())"
   ]
  },
  {
   "cell_type": "markdown",
   "metadata": {},
   "source": [
    "# Type column in X-train not needed for modeling; contains values like single-family which is throwing errors when training model"
   ]
  },
  {
   "cell_type": "code",
   "execution_count": 23,
   "metadata": {},
   "outputs": [],
   "source": [
    "# dropping type column\n",
    "X_train = X_train.drop(columns=[\"type\"])\n",
    "X_test = X_test.drop(columns=[\"type\"])\n"
   ]
  },
  {
   "cell_type": "code",
   "execution_count": 24,
   "metadata": {},
   "outputs": [
    {
     "name": "stdout",
     "output_type": "stream",
     "text": [
      "Linear Regression:\n",
      " RMSE: 328690.32, MAE: 228932.48, R^2: -0.0694\n",
      "\n",
      "Support Vector Machine:\n",
      " RMSE: 327317.32, MAE: 193034.85, R^2: -0.0605\n",
      "\n",
      "Random Forest:\n",
      " RMSE: 223739.53, MAE: 119453.70, R^2: 0.5045\n",
      "\n",
      "XGBoost:\n",
      " RMSE: 932997.51, MAE: 180347.77, R^2: -7.6163\n",
      "\n"
     ]
    }
   ],
   "source": [
    "# Train and evaluate models\n",
    "results = []\n",
    "for name, model in models.items():\n",
    "    model.fit(X_train, y_train)\n",
    "    y_pred = model.predict(X_test)\n",
    "    \n",
    "    # Calculate evaluation metrics\n",
    "    rmse = np.sqrt(mean_squared_error(y_test, y_pred))\n",
    "    mae = mean_absolute_error(y_test, y_pred)\n",
    "    r2 = r2_score(y_test, y_pred)\n",
    "    \n",
    "    results.append([name, rmse, mae, r2])\n",
    "    print(f\"{name}:\\n RMSE: {rmse:.2f}, MAE: {mae:.2f}, R^2: {r2:.4f}\\n\")"
   ]
  },
  {
   "cell_type": "code",
   "execution_count": 25,
   "metadata": {},
   "outputs": [],
   "source": [
    "# Convert results to DataFrame for comparison\n",
    "results_df = pd.DataFrame(results, columns=[\"Model\", \"RMSE\", \"MAE\", \"R^2\"])"
   ]
  },
  {
   "cell_type": "code",
   "execution_count": 26,
   "metadata": {},
   "outputs": [
    {
     "data": {
      "image/png": "[encoded data removed]",
      "text/plain": [
       "<Figure size 1000x600 with 1 Axes>"
      ]
     },
     "metadata": {},
     "output_type": "display_data"
    }
   ],
   "source": [
    "# Plot results\n",
    "plt.figure(figsize=(10, 6))\n",
    "sns.barplot(data=results_df.melt(id_vars=[\"Model\"], var_name=\"Metric\", value_name=\"Score\"),\n",
    "            x=\"Model\", y=\"Score\", hue=\"Metric\")\n",
    "plt.xticks(rotation=45)\n",
    "plt.title(\"Model Performance Comparison\")\n",
    "plt.show()"
   ]
  },
  {
   "cell_type": "code",
   "execution_count": 27,
   "metadata": {},
   "outputs": [],
   "source": [
    "# Save results\n",
    "df_results = results_df.sort_values(by='RMSE')\n",
    "df_results.to_csv(\"model_comparison_results.csv\", index=False)"
   ]
  },
  {
   "cell_type": "markdown",
   "metadata": {},
   "source": [
    "Consider what metrics you want to use to evaluate success.\n",
    "- If you think about mean squared error, can we actually relate to the amount of error?\n",
    "- Try root mean squared error so that error is closer to the original units (dollars)\n",
    "- What does RMSE do to outliers?\n",
    "- Is mean absolute error a good metric for this problem?\n",
    "- What about R^2? Adjusted R^2?\n",
    "- Briefly describe your reasons for picking the metrics you use"
   ]
  },
  {
   "cell_type": "markdown",
   "metadata": {},
   "source": [
    "- **Best Model: Random Forest** \n",
    "  - Lowest RMSE (223,739.53) and MAE (119,453.70)  \n",
    "  - Highest R² (0.5045), explaining ~50% of variance  \n",
    "\n",
    "- **Metric Selection:**  \n",
    "  - **RMSE**: Measures error in dollars, penalizes large deviations  \n",
    "  - **MAE**: Gives average error, less sensitive to outliers  \n",
    "  - **R²**: Evaluates explanatory power (negative values indicate poor fit)  \n",
    "\n",
    "- **Key Insights:**  \n",
    "  - XGBoost performed the worst (RMSE: 932,997.51, R²: -7.6163)  \n",
    "  - Random Forest is the most reliable model based on all metrics  \n",
    "  - Further tuning could improve performance"
   ]
  },
  {
   "cell_type": "markdown",
   "metadata": {},
   "source": [
    "## Feature Selection - STRETCH\n",
    "\n",
    "> **This step doesn't need to be part of your Minimum Viable Product (MVP), but its recommended you complete it if you have time!**\n",
    "\n",
    "Even with all the preprocessing we did in Notebook 1, you probably still have a lot of features. Are they all important for prediction?\n",
    "\n",
    "Investigate some feature selection algorithms (Lasso, RFE, Forward/Backward Selection)\n",
    "- Perform feature selection to get a reduced subset of your original features\n",
    "- Refit your models with this reduced dimensionality - how does performance change on your chosen metrics?\n",
    "- Based on this, should you include feature selection in your final pipeline? Explain\n",
    "\n",
    "Remember, feature selection often doesn't directly improve performance, but if performance remains the same, a simpler model is often preferrable. \n",
    "\n"
   ]
  },
  {
   "cell_type": "code",
   "execution_count": null,
   "metadata": {},
   "outputs": [],
   "source": [
    "# perform feature selection \n",
    "# refit models\n",
    "# gather evaluation metrics and compare to the previous step (full feature set)"
   ]
  },
  {
   "cell_type": "markdown",
   "metadata": {},
   "source": []
  }
 ],
 "metadata": {
  "kernelspec": {
   "display_name": "Python 3",
   "language": "python",
   "name": "python3"
  },
  "language_info": {
   "codemirror_mode": {
    "name": "ipython",
    "version": 3
   },
   "file_extension": ".py",
   "mimetype": "text/x-python",
   "name": "python",
   "nbconvert_exporter": "python",
   "pygments_lexer": "ipython3",
   "version": "3.9.6"
  }
 },
 "nbformat": 4,
 "nbformat_minor": 2
}
